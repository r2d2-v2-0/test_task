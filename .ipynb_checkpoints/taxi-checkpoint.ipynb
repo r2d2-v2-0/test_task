{
 "cells": [
  {
   "cell_type": "code",
   "execution_count": 2,
   "id": "6d453518",
   "metadata": {},
   "outputs": [
    {
     "ename": "AttributeError",
     "evalue": "partially initialized module 'osmnx' has no attribute 'config' (most likely due to a circular import)",
     "output_type": "error",
     "traceback": [
      "\u001b[1;31m---------------------------------------------------------------------------\u001b[0m",
      "\u001b[1;31mAttributeError\u001b[0m                            Traceback (most recent call last)",
      "Cell \u001b[1;32mIn[2], line 1\u001b[0m\n\u001b[1;32m----> 1\u001b[0m \u001b[38;5;28;01mimport\u001b[39;00m \u001b[38;5;21;01mosmnx\u001b[39;00m \u001b[38;5;28;01mas\u001b[39;00m \u001b[38;5;21;01mox\u001b[39;00m\n\u001b[0;32m      2\u001b[0m \u001b[38;5;28;01mimport\u001b[39;00m \u001b[38;5;21;01mnetworkx\u001b[39;00m \u001b[38;5;28;01mas\u001b[39;00m \u001b[38;5;21;01mnx\u001b[39;00m\n",
      "File \u001b[1;32mC:\\python_development\\test_task\\osmnx.py:4\u001b[0m\n\u001b[0;32m      1\u001b[0m \u001b[38;5;28;01mimport\u001b[39;00m \u001b[38;5;21;01mosmnx\u001b[39;00m \u001b[38;5;28;01mas\u001b[39;00m \u001b[38;5;21;01mox\u001b[39;00m\n\u001b[0;32m      2\u001b[0m \u001b[38;5;28;01mimport\u001b[39;00m \u001b[38;5;21;01mnetworkx\u001b[39;00m \u001b[38;5;28;01mas\u001b[39;00m \u001b[38;5;21;01mnx\u001b[39;00m\n\u001b[1;32m----> 4\u001b[0m ox\u001b[38;5;241m.\u001b[39mconfig(log_console\u001b[38;5;241m=\u001b[39m\u001b[38;5;28;01mTrue\u001b[39;00m, use_cache\u001b[38;5;241m=\u001b[39m\u001b[38;5;28;01mTrue\u001b[39;00m)\n\u001b[0;32m      6\u001b[0m \u001b[38;5;66;03m# define the start and end locations in latlng\u001b[39;00m\n\u001b[0;32m      7\u001b[0m start_latlng \u001b[38;5;241m=\u001b[39m (\u001b[38;5;241m62.02932\u001b[39m, \u001b[38;5;241m129.73445\u001b[39m)\n",
      "\u001b[1;31mAttributeError\u001b[0m: partially initialized module 'osmnx' has no attribute 'config' (most likely due to a circular import)"
     ]
    }
   ],
   "source": [
    "import osmnx as ox\n",
    "import networkx as nx"
   ]
  },
  {
   "cell_type": "code",
   "execution_count": null,
   "id": "748d13aa",
   "metadata": {
    "scrolled": true
   },
   "outputs": [],
   "source": [
    "ox.config(log_console=True, use_cache=True)"
   ]
  },
  {
   "cell_type": "code",
   "execution_count": null,
   "id": "1d9d1731",
   "metadata": {},
   "outputs": [],
   "source": [
    "start_latlng = (62.03103, 129.73847)\n",
    "end_latlng = (62.08352, 129.73959)\n",
    "\n",
    "place = 'Yakutsk, Russia'"
   ]
  },
  {
   "cell_type": "code",
   "execution_count": null,
   "id": "27fc4366",
   "metadata": {},
   "outputs": [],
   "source": [
    "mode = 'walk' # 'drive', 'bike', 'walk'\n",
    "optimizer = 'time' # 'length','time'"
   ]
  },
  {
   "cell_type": "code",
   "execution_count": null,
   "id": "16a9985a",
   "metadata": {},
   "outputs": [],
   "source": [
    "graph = ox.graph_from_place(place, network_type = mode)"
   ]
  },
  {
   "cell_type": "code",
   "execution_count": null,
   "id": "5e3583d1",
   "metadata": {},
   "outputs": [],
   "source": [
    "orig_node = ox.get_nearest_node(graph, start_latlng)"
   ]
  },
  {
   "cell_type": "code",
   "execution_count": null,
   "id": "b48b9bf0",
   "metadata": {},
   "outputs": [],
   "source": [
    "dest_node = ox.get_nearest_node(graph, end_latlng)"
   ]
  },
  {
   "cell_type": "code",
   "execution_count": null,
   "id": "94ea8931",
   "metadata": {},
   "outputs": [],
   "source": [
    "shortest_route = nx.shortest_path(graph, orig_node,dest_node,\n",
    "                                  weight=optimizer)"
   ]
  }
 ],
 "metadata": {
  "kernelspec": {
   "display_name": "Python 3 (ipykernel)",
   "language": "python",
   "name": "python3"
  },
  "language_info": {
   "codemirror_mode": {
    "name": "ipython",
    "version": 3
   },
   "file_extension": ".py",
   "mimetype": "text/x-python",
   "name": "python",
   "nbconvert_exporter": "python",
   "pygments_lexer": "ipython3",
   "version": "3.11.4"
  }
 },
 "nbformat": 4,
 "nbformat_minor": 5
}
