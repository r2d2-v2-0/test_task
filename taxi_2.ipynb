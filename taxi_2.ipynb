{
 "cells": [
  {
   "cell_type": "markdown",
   "id": "4fb99560",
   "metadata": {},
   "source": [
    "Для решения данной задачи "
   ]
  },
  {
   "cell_type": "code",
   "execution_count": 1,
   "id": "1cf371c4",
   "metadata": {},
   "outputs": [],
   "source": [
    "import osmnx as ox\n",
    "from geopy.geocoders import Nominatim\n",
    "from geopy.distance import geodesic\n",
    "import folium\n",
    "import geopandas as gpd\n",
    "import pandas as pd\n",
    "from shapely.geometry import LineString\n",
    "import math\n"
   ]
  },
  {
   "cell_type": "markdown",
   "id": "b282474e",
   "metadata": {},
   "source": [
    "Создал датафрем заказов. Для этого создал в ChatGPT CSV таблицу (имена и номера все придуманные)."
   ]
  },
  {
   "cell_type": "code",
   "execution_count": 2,
   "id": "1ffea640",
   "metadata": {},
   "outputs": [
    {
     "data": {
      "text/html": [
       "<div>\n",
       "<style scoped>\n",
       "    .dataframe tbody tr th:only-of-type {\n",
       "        vertical-align: middle;\n",
       "    }\n",
       "\n",
       "    .dataframe tbody tr th {\n",
       "        vertical-align: top;\n",
       "    }\n",
       "\n",
       "    .dataframe thead th {\n",
       "        text-align: right;\n",
       "    }\n",
       "</style>\n",
       "<table border=\"1\" class=\"dataframe\">\n",
       "  <thead>\n",
       "    <tr style=\"text-align: right;\">\n",
       "      <th></th>\n",
       "      <th>user_id</th>\n",
       "      <th>name</th>\n",
       "      <th>phone</th>\n",
       "      <th>start_lat</th>\n",
       "      <th>start_lon</th>\n",
       "      <th>end_lat</th>\n",
       "      <th>end_lon</th>\n",
       "      <th>price</th>\n",
       "    </tr>\n",
       "  </thead>\n",
       "  <tbody>\n",
       "    <tr>\n",
       "      <th>0</th>\n",
       "      <td>abc1</td>\n",
       "      <td>Александр</td>\n",
       "      <td>79141234567</td>\n",
       "      <td>62.032736</td>\n",
       "      <td>129.686946</td>\n",
       "      <td>62.070534</td>\n",
       "      <td>129.723418</td>\n",
       "      <td>150</td>\n",
       "    </tr>\n",
       "    <tr>\n",
       "      <th>1</th>\n",
       "      <td>def2</td>\n",
       "      <td>Екатерина</td>\n",
       "      <td>79246789123</td>\n",
       "      <td>62.002185</td>\n",
       "      <td>129.711816</td>\n",
       "      <td>62.081098</td>\n",
       "      <td>129.741987</td>\n",
       "      <td>220</td>\n",
       "    </tr>\n",
       "    <tr>\n",
       "      <th>2</th>\n",
       "      <td>ghi3</td>\n",
       "      <td>Ирина</td>\n",
       "      <td>79641234987</td>\n",
       "      <td>62.064982</td>\n",
       "      <td>129.751246</td>\n",
       "      <td>62.036242</td>\n",
       "      <td>129.700507</td>\n",
       "      <td>130</td>\n",
       "    </tr>\n",
       "    <tr>\n",
       "      <th>3</th>\n",
       "      <td>jkl4</td>\n",
       "      <td>Семен</td>\n",
       "      <td>79142367890</td>\n",
       "      <td>62.055789</td>\n",
       "      <td>129.678237</td>\n",
       "      <td>62.091062</td>\n",
       "      <td>129.720122</td>\n",
       "      <td>260</td>\n",
       "    </tr>\n",
       "    <tr>\n",
       "      <th>4</th>\n",
       "      <td>mno5</td>\n",
       "      <td>Мария</td>\n",
       "      <td>79645671234</td>\n",
       "      <td>62.042524</td>\n",
       "      <td>129.726823</td>\n",
       "      <td>62.065895</td>\n",
       "      <td>129.679482</td>\n",
       "      <td>230</td>\n",
       "    </tr>\n",
       "  </tbody>\n",
       "</table>\n",
       "</div>"
      ],
      "text/plain": [
       "  user_id       name        phone  start_lat   start_lon    end_lat  \\\n",
       "0    abc1  Александр  79141234567  62.032736  129.686946  62.070534   \n",
       "1    def2  Екатерина  79246789123  62.002185  129.711816  62.081098   \n",
       "2    ghi3      Ирина  79641234987  62.064982  129.751246  62.036242   \n",
       "3    jkl4      Семен  79142367890  62.055789  129.678237  62.091062   \n",
       "4    mno5      Мария  79645671234  62.042524  129.726823  62.065895   \n",
       "\n",
       "      end_lon  price  \n",
       "0  129.723418    150  \n",
       "1  129.741987    220  \n",
       "2  129.700507    130  \n",
       "3  129.720122    260  \n",
       "4  129.679482    230  "
      ]
     },
     "execution_count": 2,
     "metadata": {},
     "output_type": "execute_result"
    }
   ],
   "source": [
    "df = pd.read_csv('data.csv', delimiter=';')\n",
    "df.head()"
   ]
  },
  {
   "cell_type": "code",
   "execution_count": 3,
   "id": "d6995662",
   "metadata": {},
   "outputs": [],
   "source": [
    "ox.settings.log_console=True\n",
    "ox.settings.use_cache=True\n",
    "locator = Nominatim(user_agent=\"myapp\")"
   ]
  },
  {
   "cell_type": "markdown",
   "id": "5bffa4a9",
   "metadata": {},
   "source": [
    "Задаем координаты начала и конца основного маршрута:"
   ]
  },
  {
   "cell_type": "code",
   "execution_count": 4,
   "id": "b566f89b",
   "metadata": {},
   "outputs": [],
   "source": [
    "start = (62.02361, 129.69306)\n",
    "end = (62.08339, 129.73959)\n",
    "place = 'Yakutsk, Russia'\n",
    "\n",
    "popup_start = locator.reverse(start).address\n",
    "popup_end = locator.reverse(end).address"
   ]
  },
  {
   "cell_type": "markdown",
   "id": "38edf91e",
   "metadata": {},
   "source": [
    "Создаем графы:"
   ]
  },
  {
   "cell_type": "code",
   "execution_count": 5,
   "id": "9e130bd6",
   "metadata": {},
   "outputs": [],
   "source": [
    "G = ox.graph_from_place(place, network_type = 'drive')"
   ]
  },
  {
   "cell_type": "markdown",
   "id": "d5422b67",
   "metadata": {},
   "source": [
    "Поиск ближайшей точки к начальному и конечному местоположениям:"
   ]
  },
  {
   "cell_type": "code",
   "execution_count": 6,
   "id": "80bc610c",
   "metadata": {},
   "outputs": [],
   "source": [
    "orig = ox.distance.nearest_nodes(G, start[1], start[0], return_dist=False)\n",
    "dest = ox.distance.nearest_nodes(G, end[1], end[0], return_dist=False)"
   ]
  },
  {
   "cell_type": "markdown",
   "id": "f40797b8",
   "metadata": {},
   "source": [
    "Поиск кратчайшего пути:"
   ]
  },
  {
   "cell_type": "code",
   "execution_count": 7,
   "id": "e5e23ef3",
   "metadata": {
    "scrolled": false
   },
   "outputs": [],
   "source": [
    "route = ox.shortest_path(G, orig, dest, weight='length')"
   ]
  },
  {
   "cell_type": "markdown",
   "id": "89fd0617",
   "metadata": {},
   "source": [
    "Создание GeoDataFrame"
   ]
  },
  {
   "cell_type": "code",
   "execution_count": 8,
   "id": "aaf1b6d6",
   "metadata": {},
   "outputs": [],
   "source": [
    "route_edges = ox.utils_graph.route_to_gdf(G, route, 'length')"
   ]
  },
  {
   "cell_type": "markdown",
   "id": "f6a25b76",
   "metadata": {},
   "source": [
    "Создание списка координат вершин короткого пути:"
   ]
  },
  {
   "cell_type": "code",
   "execution_count": 9,
   "id": "8b8fc6fe",
   "metadata": {},
   "outputs": [
    {
     "data": {
      "text/html": [
       "<div>\n",
       "<style scoped>\n",
       "    .dataframe tbody tr th:only-of-type {\n",
       "        vertical-align: middle;\n",
       "    }\n",
       "\n",
       "    .dataframe tbody tr th {\n",
       "        vertical-align: top;\n",
       "    }\n",
       "\n",
       "    .dataframe thead th {\n",
       "        text-align: right;\n",
       "    }\n",
       "</style>\n",
       "<table border=\"1\" class=\"dataframe\">\n",
       "  <thead>\n",
       "    <tr style=\"text-align: right;\">\n",
       "      <th></th>\n",
       "      <th>latitude</th>\n",
       "      <th>longitude</th>\n",
       "    </tr>\n",
       "  </thead>\n",
       "  <tbody>\n",
       "    <tr>\n",
       "      <th>0</th>\n",
       "      <td>62.024031</td>\n",
       "      <td>129.692802</td>\n",
       "    </tr>\n",
       "    <tr>\n",
       "      <th>1</th>\n",
       "      <td>62.023923</td>\n",
       "      <td>129.692664</td>\n",
       "    </tr>\n",
       "    <tr>\n",
       "      <th>2</th>\n",
       "      <td>62.023519</td>\n",
       "      <td>129.692096</td>\n",
       "    </tr>\n",
       "    <tr>\n",
       "      <th>3</th>\n",
       "      <td>62.023331</td>\n",
       "      <td>129.691848</td>\n",
       "    </tr>\n",
       "    <tr>\n",
       "      <th>4</th>\n",
       "      <td>62.023015</td>\n",
       "      <td>129.691663</td>\n",
       "    </tr>\n",
       "  </tbody>\n",
       "</table>\n",
       "</div>"
      ],
      "text/plain": [
       "    latitude   longitude\n",
       "0  62.024031  129.692802\n",
       "1  62.023923  129.692664\n",
       "2  62.023519  129.692096\n",
       "3  62.023331  129.691848\n",
       "4  62.023015  129.691663"
      ]
     },
     "execution_count": 9,
     "metadata": {},
     "output_type": "execute_result"
    }
   ],
   "source": [
    "latitude_list = []\n",
    "longitude_list = []\n",
    "\n",
    "for geom in route_edges['geometry']:\n",
    "    if isinstance(geom, LineString):\n",
    "        longitudes, latitudes = geom.xy\n",
    "        latitude_list.extend(latitudes)\n",
    "        longitude_list.extend(longitudes)\n",
    "\n",
    "route_coordinates = pd.DataFrame({'latitude': latitude_list, 'longitude': longitude_list})\n",
    "\n",
    "route_coordinates.head()"
   ]
  },
  {
   "cell_type": "markdown",
   "id": "3d895a2a",
   "metadata": {},
   "source": [
    "    здесь будет функция проверяющая лежат ли обе точки маршрута попутчика не далее определенного расстояния от основного маршрута и лежи ли маршрут попутчика в попутном направлении основного маршрута. ЕЩЕ НЕ ГОТОВА "
   ]
  },
  {
   "cell_type": "markdown",
   "id": "6d9014d6",
   "metadata": {},
   "source": [
    "reference_points = route_coordinates['latitude','longitude']\n",
    "compare_points = df[('start_lat', 'start_lon'), ('end_lat', 'end_lon')]\n",
    "\n",
    "\n",
    "def are_points_within_distance(point1, point2, threshold_km):\n",
    "    distance = geodesic(point1, point2).kilometers\n",
    "    return distance <= threshold_km\n",
    "\n",
    "def check_points_within_table(reference_points, compare_points, threshold_km):\n",
    "    for ref_point in reference_points:\n",
    "        for comp_point in compare_points:\n",
    "            if are_points_within_distance(ref_point, comp_point, threshold_km):\n",
    "                return True\n",
    "    return False\n"
   ]
  },
  {
   "cell_type": "markdown",
   "id": "1ec2c133",
   "metadata": {},
   "source": [
    "Выводим карту и настраиваем маркеры основного маршрута."
   ]
  },
  {
   "cell_type": "code",
   "execution_count": null,
   "id": "a9b89c84",
   "metadata": {},
   "outputs": [],
   "source": [
    "m = route_edges.explore(tiles=\"cartodbpositron\", style_kwds={\"weight\": 5})\n",
    "folium.Marker(\n",
    "    location=[start[0], start[1]],\n",
    "    popup=popup_start,\n",
    "    icon=folium.Icon(color='green'),\n",
    ").add_to(m)\n",
    "folium.Marker(\n",
    "    location=[end[0], end[1]],\n",
    "    popup=popup_end,\n",
    "    icon=folium.Icon(color=\"blue\"),\n",
    ").add_to(m)\n",
    "m"
   ]
  },
  {
   "cell_type": "code",
   "execution_count": null,
   "id": "b7693061",
   "metadata": {},
   "outputs": [],
   "source": []
  }
 ],
 "metadata": {
  "kernelspec": {
   "display_name": "Python 3 (ipykernel)",
   "language": "python",
   "name": "python3"
  },
  "language_info": {
   "codemirror_mode": {
    "name": "ipython",
    "version": 3
   },
   "file_extension": ".py",
   "mimetype": "text/x-python",
   "name": "python",
   "nbconvert_exporter": "python",
   "pygments_lexer": "ipython3",
   "version": "3.11.4"
  }
 },
 "nbformat": 4,
 "nbformat_minor": 5
}
